{
 "cells": [
  {
   "cell_type": "code",
   "execution_count": 4,
   "id": "c8f901d5-04f5-432a-864c-9a070a4b580a",
   "metadata": {},
   "outputs": [
    {
     "name": "stdout",
     "output_type": "stream",
     "text": [
      "20\n",
      "nothing wrong\n",
      "finally print\n"
     ]
    }
   ],
   "source": [
    "x=20\n",
    "try:\n",
    "    print(x)\n",
    "except:\n",
    "    print(\"error has been occurred\")\n",
    "else:\n",
    "    print(\"nothing wrong\")\n",
    "finally:\n",
    "    print(\"finally print\")"
   ]
  },
  {
   "cell_type": "code",
   "execution_count": 5,
   "id": "75c49b25-9c56-403b-a55a-a34aa502fcee",
   "metadata": {},
   "outputs": [
    {
     "name": "stdin",
     "output_type": "stream",
     "text": [
      "enter the number arjun\n"
     ]
    },
    {
     "ename": "ValueError",
     "evalue": "invalid literal for int() with base 10: 'arjun'",
     "output_type": "error",
     "traceback": [
      "\u001b[1;31m---------------------------------------------------------------------------\u001b[0m",
      "\u001b[1;31mValueError\u001b[0m                                Traceback (most recent call last)",
      "Cell \u001b[1;32mIn[5], line 1\u001b[0m\n\u001b[1;32m----> 1\u001b[0m \u001b[38;5;28;43mint\u001b[39;49m\u001b[43m(\u001b[49m\u001b[38;5;28;43minput\u001b[39;49m\u001b[43m(\u001b[49m\u001b[38;5;124;43m\"\u001b[39;49m\u001b[38;5;124;43menter the number\u001b[39;49m\u001b[38;5;124;43m\"\u001b[39;49m\u001b[43m)\u001b[49m\u001b[43m)\u001b[49m\n",
      "\u001b[1;31mValueError\u001b[0m: invalid literal for int() with base 10: 'arjun'"
     ]
    }
   ],
   "source": [
    "int(input(\"enter the number\"))\n",
    "########during run time#####\n"
   ]
  },
  {
   "cell_type": "code",
   "execution_count": 10,
   "id": "d69588fc-3245-4929-99b0-17ed9a8e7497",
   "metadata": {},
   "outputs": [],
   "source": [
    "###exception is use for terminate the program \n",
    "####print(\"print the message\")\n",
    "####exception will not be exeucte the program iif program has any type of error\n",
    "\n",
    "try:\n",
    "    num_1=45\n",
    "    num_2=34\n",
    "    division=num_1/num_2\n",
    "except ZeroDivisionError:\n",
    "    print(\"no\")\n",
    "    \n",
    "\n"
   ]
  },
  {
   "cell_type": "code",
   "execution_count": 11,
   "id": "5eb2e00a-6b17-4fbf-97e5-3cc7f6c5cead",
   "metadata": {},
   "outputs": [
    {
     "ename": "IndexError",
     "evalue": "list index out of range",
     "output_type": "error",
     "traceback": [
      "\u001b[1;31m---------------------------------------------------------------------------\u001b[0m",
      "\u001b[1;31mIndexError\u001b[0m                                Traceback (most recent call last)",
      "Cell \u001b[1;32mIn[11], line 2\u001b[0m\n\u001b[0;32m      1\u001b[0m li\u001b[38;5;241m=\u001b[39m[\u001b[38;5;241m1\u001b[39m,\u001b[38;5;241m2\u001b[39m,\u001b[38;5;241m3\u001b[39m]\n\u001b[1;32m----> 2\u001b[0m \u001b[43mli\u001b[49m\u001b[43m[\u001b[49m\u001b[38;5;241;43m4\u001b[39;49m\u001b[43m]\u001b[49m\n",
      "\u001b[1;31mIndexError\u001b[0m: list index out of range"
     ]
    }
   ],
   "source": [
    "li=[1,2,3]\n",
    "li[4]"
   ]
  },
  {
   "cell_type": "code",
   "execution_count": 13,
   "id": "2a67f87c-9b5e-4e43-8302-6a0823a993f7",
   "metadata": {},
   "outputs": [
    {
     "ename": "TypeError",
     "evalue": "'set' object is not subscriptable",
     "output_type": "error",
     "traceback": [
      "\u001b[1;31m---------------------------------------------------------------------------\u001b[0m",
      "\u001b[1;31mTypeError\u001b[0m                                 Traceback (most recent call last)",
      "Cell \u001b[1;32mIn[13], line 2\u001b[0m\n\u001b[0;32m      1\u001b[0m li\u001b[38;5;241m=\u001b[39m{\u001b[38;5;241m1\u001b[39m,\u001b[38;5;241m2\u001b[39m,\u001b[38;5;241m3\u001b[39m}\n\u001b[1;32m----> 2\u001b[0m \u001b[43mli\u001b[49m\u001b[43m[\u001b[49m\u001b[38;5;241;43m5\u001b[39;49m\u001b[43m]\u001b[49m\n",
      "\u001b[1;31mTypeError\u001b[0m: 'set' object is not subscriptable"
     ]
    }
   ],
   "source": []
  },
  {
   "cell_type": "code",
   "execution_count": 19,
   "id": "83df89cc-3f4a-4593-b20d-dea70fbb23b2",
   "metadata": {},
   "outputs": [
    {
     "name": "stdout",
     "output_type": "stream",
     "text": [
      "19.35\n",
      "1.0318181818181817\n",
      "finally\n"
     ]
    }
   ],
   "source": [
    "try:\n",
    "    y=11.35\n",
    "    z=int(y)\n",
    "    print(8+y)\n",
    "    print(y/z)\n",
    "\n",
    "except NameError:\n",
    "    print(\"nameerror\")\n",
    "\n",
    "except ValueError:\n",
    "    print(\"Valueerror\")\n",
    "\n",
    "\n",
    "except ArithmeticError:\n",
    "    print(\"Arithmeticerror\")\n",
    "\n",
    "\n",
    "except TypeError:\n",
    "    print(\"Typeerror\") \n",
    "\n",
    "finally:\n",
    "    print(\"finally\")\n"
   ]
  },
  {
   "cell_type": "code",
   "execution_count": 20,
   "id": "222fd171-bf89-4871-815f-792072aa6b7b",
   "metadata": {},
   "outputs": [
    {
     "name": "stdout",
     "output_type": "stream",
     "text": [
      "division by zero\n"
     ]
    }
   ],
   "source": [
    "try:\n",
    "    num_1=30\n",
    "    num_2=0\n",
    "    division=num_1/num_2\n",
    "except Exception as e:\n",
    "    print(e)"
   ]
  },
  {
   "cell_type": "code",
   "execution_count": 22,
   "id": "555537c6-0613-47d2-aa18-588c4f6ddfd9",
   "metadata": {},
   "outputs": [
    {
     "name": "stdin",
     "output_type": "stream",
     "text": [
      "enter the num 8\n",
      "enter the num 9\n"
     ]
    },
    {
     "name": "stdout",
     "output_type": "stream",
     "text": [
      "17\n"
     ]
    }
   ],
   "source": [
    "num_1=int(input(\"enter the num\"))\n",
    "num_2=int(input(\"enter the num\"))\n",
    "\n",
    "try:\n",
    "    if num_1==0:\n",
    "        raise Exception(\"num_1 should not be zero\")\n",
    "    else:\n",
    "        sum=num_1+num_2\n",
    "        print(sum)\n",
    "\n",
    "except Exception as e:\n",
    "    print(e)\n",
    "        "
   ]
  },
  {
   "cell_type": "code",
   "execution_count": 27,
   "id": "c9115a62-ceaf-4190-9e29-480ae10eb791",
   "metadata": {},
   "outputs": [
    {
     "name": "stdin",
     "output_type": "stream",
     "text": [
      "enter the num 0\n",
      "enter the num 90\n"
     ]
    },
    {
     "name": "stdout",
     "output_type": "stream",
     "text": [
      "num_1 should not be zero\n"
     ]
    }
   ],
   "source": [
    "num_1=int(input(\"enter the num\"))\n",
    "num_2=int(input(\"enter the num\"))\n",
    "\n",
    "try:\n",
    "    if num_1==0:\n",
    "        raise Exception(\"num_1 should not be zero\")\n",
    "    else:\n",
    "        sum=num_1+num_2\n",
    "        print(sum)\n",
    "\n",
    "except Exception as m:\n",
    "    print(m)\n",
    "\n",
    "else:\n",
    "    print(\"finally\")\n",
    "        "
   ]
  },
  {
   "cell_type": "code",
   "execution_count": null,
   "id": "5e48da92-85ff-4e85-bd78-00fcc72a9f80",
   "metadata": {},
   "outputs": [],
   "source": [
    "try:\n",
    "    number=input(\"enter the number\")\n",
    "    if number==\"string\":\n",
    "        raise Exception(\"value error\"\n",
    "    else                \n"
   ]
  },
  {
   "cell_type": "code",
   "execution_count": null,
   "id": "0a7e6329-4401-419f-bc18-fcf1baba1f8e",
   "metadata": {},
   "outputs": [],
   "source": []
  },
  {
   "cell_type": "code",
   "execution_count": null,
   "id": "1551b700-d71e-4e96-a7d4-fc5b59d65381",
   "metadata": {},
   "outputs": [],
   "source": []
  },
  {
   "cell_type": "code",
   "execution_count": null,
   "id": "d01f94ee-9dc1-4eab-a47d-4d6ff3545764",
   "metadata": {},
   "outputs": [],
   "source": []
  },
  {
   "cell_type": "code",
   "execution_count": 6,
   "id": "eeec7c26-40d7-44d0-a584-c51917b89ffe",
   "metadata": {},
   "outputs": [
    {
     "ename": "NameError",
     "evalue": "name 'l1' is not defined",
     "output_type": "error",
     "traceback": [
      "\u001b[1;31m---------------------------------------------------------------------------\u001b[0m",
      "\u001b[1;31mNameError\u001b[0m                                 Traceback (most recent call last)",
      "Cell \u001b[1;32mIn[6], line 2\u001b[0m\n\u001b[0;32m      1\u001b[0m li\u001b[38;5;241m=\u001b[39m[\u001b[38;5;241m1\u001b[39m,\u001b[38;5;241m2\u001b[39m,\u001b[38;5;241m3\u001b[39m]\n\u001b[1;32m----> 2\u001b[0m \u001b[38;5;28mprint\u001b[39m(\u001b[43ml1\u001b[49m)\n",
      "\u001b[1;31mNameError\u001b[0m: name 'l1' is not defined"
     ]
    }
   ],
   "source": []
  },
  {
   "cell_type": "code",
   "execution_count": null,
   "id": "d598b120-57da-4978-b899-d5a46a5b4c14",
   "metadata": {},
   "outputs": [],
   "source": [
    "####Keyboard errror -\n",
    "##nameError\n"
   ]
  },
  {
   "cell_type": "code",
   "execution_count": 7,
   "id": "286cb652-7f78-473f-8417-9d79cb369c60",
   "metadata": {},
   "outputs": [
    {
     "ename": "ZeroDivisionError",
     "evalue": "division by zero",
     "output_type": "error",
     "traceback": [
      "\u001b[1;31m---------------------------------------------------------------------------\u001b[0m",
      "\u001b[1;31mZeroDivisionError\u001b[0m                         Traceback (most recent call last)",
      "Cell \u001b[1;32mIn[7], line 3\u001b[0m\n\u001b[0;32m      1\u001b[0m var_1\u001b[38;5;241m=\u001b[39m\u001b[38;5;241m90\u001b[39m\n\u001b[0;32m      2\u001b[0m var_2\u001b[38;5;241m=\u001b[39m\u001b[38;5;241m0\u001b[39m\n\u001b[1;32m----> 3\u001b[0m \u001b[38;5;28mprint\u001b[39m(\u001b[43mvar_1\u001b[49m\u001b[38;5;241;43m/\u001b[39;49m\u001b[43mvar_2\u001b[49m)\n",
      "\u001b[1;31mZeroDivisionError\u001b[0m: division by zero"
     ]
    }
   ],
   "source": [
    "var_1=90\n",
    "var_2=0\n",
    "print(var_1/var_2)\n",
    "\n",
    "##Zero division error"
   ]
  },
  {
   "cell_type": "code",
   "execution_count": null,
   "id": "f8ffe003-91ed-45ed-b6af-07970f2fa5ff",
   "metadata": {},
   "outputs": [],
   "source": [
    "###Try-use for risky code.........\n",
    "###except-handling any type of error.........\n",
    "\n",
    "try:\n",
    "    a="
   ]
  },
  {
   "cell_type": "code",
   "execution_count": 29,
   "id": "615bbc73-86ac-46e1-81b0-9b72517802bd",
   "metadata": {},
   "outputs": [],
   "source": [
    "####File--Filer are named locations \n",
    "####w-write\n",
    "f=open('hello.txt','w')\n",
    "f.write('line 1 is a line written by w')\n",
    "f.close()"
   ]
  },
  {
   "cell_type": "code",
   "execution_count": 30,
   "id": "ab8f1faf-e685-4a6b-932f-db04c384fe72",
   "metadata": {},
   "outputs": [
    {
     "ename": "UnsupportedOperation",
     "evalue": "not writable",
     "output_type": "error",
     "traceback": [
      "\u001b[1;31m---------------------------------------------------------------------------\u001b[0m",
      "\u001b[1;31mUnsupportedOperation\u001b[0m                      Traceback (most recent call last)",
      "Cell \u001b[1;32mIn[30], line 2\u001b[0m\n\u001b[0;32m      1\u001b[0m f\u001b[38;5;241m=\u001b[39m\u001b[38;5;28mopen\u001b[39m(\u001b[38;5;124m'\u001b[39m\u001b[38;5;124mhello.txt\u001b[39m\u001b[38;5;124m'\u001b[39m,\u001b[38;5;124m'\u001b[39m\u001b[38;5;124mr\u001b[39m\u001b[38;5;124m'\u001b[39m)\n\u001b[1;32m----> 2\u001b[0m \u001b[43mf\u001b[49m\u001b[38;5;241;43m.\u001b[39;49m\u001b[43mwrite\u001b[49m\u001b[43m(\u001b[49m\u001b[38;5;124;43m'\u001b[39;49m\u001b[38;5;124;43mline 1 is a line written by w\u001b[39;49m\u001b[38;5;124;43m'\u001b[39;49m\u001b[43m)\u001b[49m\n\u001b[0;32m      3\u001b[0m f\u001b[38;5;241m.\u001b[39mclose()\n",
      "\u001b[1;31mUnsupportedOperation\u001b[0m: not writable"
     ]
    }
   ],
   "source": [
    "f=open('hello.txt','r')\n",
    "f.write('line 1 is a line written by w')\n",
    "f.close()"
   ]
  },
  {
   "cell_type": "code",
   "execution_count": 31,
   "id": "5b8102fd-d6fd-4437-99c7-7b3baa95945e",
   "metadata": {},
   "outputs": [
    {
     "name": "stdout",
     "output_type": "stream",
     "text": [
      "5\n"
     ]
    }
   ],
   "source": [
    "########second method but it doesn't require to close\n",
    "\n",
    "with open('sample.txt','w') as f:\n",
    "    var=f.write(\"hello\")\n",
    "    print(var)\n"
   ]
  },
  {
   "cell_type": "code",
   "execution_count": 36,
   "id": "21508b84-34c3-4354-b3a4-c88e384423f5",
   "metadata": {},
   "outputs": [
    {
     "name": "stdout",
     "output_type": "stream",
     "text": [
      "line 1 is a line written by w\n"
     ]
    }
   ],
   "source": [
    "f=open('hello.txt','r')\n",
    "print(f.read())\n",
    "f.close()"
   ]
  },
  {
   "cell_type": "code",
   "execution_count": 41,
   "id": "bc39ca3e-037c-40d8-8491-df37263384c7",
   "metadata": {},
   "outputs": [],
   "source": [
    "f=open('hello.txt','a')\n",
    "f.write('\\n 2nd line ')\n",
    "f.close()"
   ]
  },
  {
   "cell_type": "code",
   "execution_count": 42,
   "id": "d2b33416-c94a-47aa-8cce-52894488c7ae",
   "metadata": {},
   "outputs": [
    {
     "name": "stdout",
     "output_type": "stream",
     "text": [
      "line 1 is a line written by wline 1 is a line written by w\n",
      "line 1 is a line written by \n",
      " 2nd line \n"
     ]
    }
   ],
   "source": [
    "f=open('hello.txt','r')\n",
    "print(f.read())\n",
    "f.close()"
   ]
  },
  {
   "cell_type": "code",
   "execution_count": 45,
   "id": "ba95526a-525c-4721-8f0b-8eda114d6d33",
   "metadata": {},
   "outputs": [
    {
     "name": "stdout",
     "output_type": "stream",
     "text": [
      "line 1 is a line written by wline 1 is a line written by w\n",
      "line 1 is a line written by \n",
      " 2nd line \n",
      " writete by arjun\n"
     ]
    }
   ],
   "source": [
    "with open('hello.txt','r+') as f:\n",
    "    print(f.read())\n",
    "    f.write(\"\\n writete by r+ arjun\")"
   ]
  },
  {
   "cell_type": "code",
   "execution_count": 55,
   "id": "f3e37bbb-0aa8-42d4-b3c5-7772bf4b2e21",
   "metadata": {},
   "outputs": [
    {
     "name": "stdout",
     "output_type": "stream",
     "text": [
      "39\n",
      "9\n",
      "f w+ mode\n",
      " written by w+ mode\n"
     ]
    }
   ],
   "source": [
    "with open('sample.txt','w+') as f:\n",
    "    f.write(\"\\n test of w+ mode\")\n",
    "    f.write(\"\\n written by w+ mode\")\n",
    "    print(f.tell()) ##current position of pointer\n",
    "    f.seek(9)  ###to bring the position of cursor to at any point\n",
    "    print(f.tell())\n",
    "    text=f.read()\n",
    "    print(text)\n",
    "    \n",
    "    \n",
    "        "
   ]
  },
  {
   "cell_type": "code",
   "execution_count": 68,
   "id": "50ec94fe-316b-4dfa-a94b-f53bbc7c5d9c",
   "metadata": {},
   "outputs": [
    {
     "name": "stdout",
     "output_type": "stream",
     "text": [
      "\n",
      "26\n",
      "0\n",
      "line1\n",
      "line2\n",
      "line3\n",
      "line4\n"
     ]
    }
   ],
   "source": [
    "with open('pthon.text','w+') as f:\n",
    "          f.write(\"line1\")\n",
    "          f.write(\"\\nline2\")\n",
    "          f.write(\"\\nline3\")\n",
    "          f.write(\"\\nline4\")\n",
    "          print(f.read())\n",
    "          print(f.tell())\n",
    "          print(f.seek(0))\n",
    "          print(f.read())"
   ]
  },
  {
   "cell_type": "code",
   "execution_count": null,
   "id": "9ee8c868-f7b9-4bd3-8db6-995807d14344",
   "metadata": {},
   "outputs": [],
   "source": []
  }
 ],
 "metadata": {
  "kernelspec": {
   "display_name": "Python 3 (ipykernel)",
   "language": "python",
   "name": "python3"
  },
  "language_info": {
   "codemirror_mode": {
    "name": "ipython",
    "version": 3
   },
   "file_extension": ".py",
   "mimetype": "text/x-python",
   "name": "python",
   "nbconvert_exporter": "python",
   "pygments_lexer": "ipython3",
   "version": "3.10.10"
  }
 },
 "nbformat": 4,
 "nbformat_minor": 5
}
