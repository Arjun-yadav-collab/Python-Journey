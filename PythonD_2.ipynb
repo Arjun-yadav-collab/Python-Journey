{
 "cells": [
  {
   "cell_type": "code",
   "execution_count": 2,
   "id": "9159e499-aa6e-4e99-a8d0-6eb35451072c",
   "metadata": {},
   "outputs": [],
   "source": [
    "a=54454545"
   ]
  },
  {
   "cell_type": "code",
   "execution_count": 3,
   "id": "5d4fab44-4db3-4d41-9f5b-955ada025ac0",
   "metadata": {},
   "outputs": [
    {
     "data": {
      "text/plain": [
       "int"
      ]
     },
     "execution_count": 3,
     "metadata": {},
     "output_type": "execute_result"
    }
   ],
   "source": [
    "type(a)\n"
   ]
  },
  {
   "cell_type": "code",
   "execution_count": 4,
   "id": "530fba55-cafa-45e1-930b-25a09ba2b443",
   "metadata": {},
   "outputs": [
    {
     "name": "stdout",
     "output_type": "stream",
     "text": [
      "a is greater than a\n"
     ]
    }
   ],
   "source": [
    "if a>4:\n",
    "    print(\"a is greater than a\");"
   ]
  },
  {
   "cell_type": "code",
   "execution_count": 5,
   "id": "805484c0-db43-4b15-af62-1b7eec892693",
   "metadata": {},
   "outputs": [
    {
     "name": "stdout",
     "output_type": "stream",
     "text": [
      "a is not greater than a\n"
     ]
    }
   ],
   "source": [
    "a=3\n",
    "if a>4:\n",
    "    print(\"a is grater than a\")\n",
    "else:\n",
    "    print(\"a is not greater than a\")"
   ]
  },
  {
   "cell_type": "code",
   "execution_count": 6,
   "id": "0b431cfd-a9c5-4a56-86b2-f75667cd4acc",
   "metadata": {},
   "outputs": [
    {
     "name": "stdout",
     "output_type": "stream",
     "text": [
      "100\n"
     ]
    }
   ],
   "source": [
    "a=40 if 10>30 else 100\n",
    "print(a)"
   ]
  },
  {
   "cell_type": "code",
   "execution_count": 9,
   "id": "8af89874-2849-477c-b5dd-c8c393ee99bd",
   "metadata": {},
   "outputs": [
    {
     "name": "stdout",
     "output_type": "stream",
     "text": [
      "enter the value 23\n",
      "enter the value 23\n"
     ]
    },
    {
     "name": "stdout",
     "output_type": "stream",
     "text": [
      "2323\n",
      "<class 'str'>\n"
     ]
    }
   ],
   "source": [
    "# add two numbers\n",
    "\n",
    "n1=input(\"enter the value\")\n",
    "n2=input(\"enter the value\")\n",
    "n3=n1+n2\n",
    "print(n3)\n",
    "print(type(n3))\n"
   ]
  },
  {
   "cell_type": "code",
   "execution_count": 10,
   "id": "574d9190-6fc5-460f-8aa4-ab9dcf0ac6db",
   "metadata": {},
   "outputs": [],
   "source": [
    "# Data types of python\n",
    "\n",
    "#str-string\n",
    "#int-Integer-number\n",
    "#flaot-number\n",
    "#complex-imaginary number\n",
    "\n",
    "\n",
    "\n",
    "\n"
   ]
  },
  {
   "cell_type": "code",
   "execution_count": 12,
   "id": "90a98986-a24b-44a1-b4b9-0722903882be",
   "metadata": {},
   "outputs": [
    {
     "name": "stdout",
     "output_type": "stream",
     "text": [
      "2391355170320\n",
      "2391355170320\n",
      "2391355170320\n"
     ]
    }
   ],
   "source": [
    "a=234\n",
    "b=234\n",
    "c=234\n",
    "print(id(a))\n",
    "print(id(b))\n",
    "print(id(c))"
   ]
  },
  {
   "cell_type": "code",
   "execution_count": 14,
   "id": "754b24d9-c6de-4785-a4ce-e80988b45e25",
   "metadata": {},
   "outputs": [
    {
     "name": "stdout",
     "output_type": "stream",
     "text": [
      "True\n",
      "True\n"
     ]
    }
   ],
   "source": [
    "b=True\n",
    "c=True\n",
    "print(b)\n",
    "print(c)"
   ]
  },
  {
   "cell_type": "code",
   "execution_count": 15,
   "id": "6d4835d2-bf75-4493-a4d0-6bad77e3c45f",
   "metadata": {},
   "outputs": [
    {
     "name": "stdout",
     "output_type": "stream",
     "text": [
      "2391456874432\n",
      "2391456856960\n",
      "2391456868096\n"
     ]
    }
   ],
   "source": [
    "b=[2,3]\n",
    "c=[2,3]\n",
    "d=[2,3]\n",
    "print(id(b))\n",
    "print(id(c))\n",
    "print(id(d))\n",
    "\n",
    "\n"
   ]
  },
  {
   "cell_type": "code",
   "execution_count": 19,
   "id": "1ad94d2f-d36d-4fa5-aa79-e42ae66c8d05",
   "metadata": {},
   "outputs": [
    {
     "name": "stdout",
     "output_type": "stream",
     "text": [
      "2391432650912\n",
      "2391452188256\n",
      "2391457383584\n"
     ]
    }
   ],
   "source": [
    "a=frozenset((2,3))\n",
    "b=frozenset((2,3))\n",
    "c=frozenset((2,3))\n",
    "print(id(a))\n",
    "print(id(b))\n",
    "print(id(c))"
   ]
  },
  {
   "cell_type": "code",
   "execution_count": 21,
   "id": "58ec7d02-da43-4d47-9d3b-9a934297fc58",
   "metadata": {},
   "outputs": [
    {
     "name": "stdout",
     "output_type": "stream",
     "text": [
      "s\n"
     ]
    }
   ],
   "source": []
  },
  {
   "cell_type": "code",
   "execution_count": 24,
   "id": "f1a289da-0359-41a9-9b4d-09b02b5e74b7",
   "metadata": {},
   "outputs": [
    {
     "name": "stdout",
     "output_type": "stream",
     "text": [
      "<class 'tuple'>\n"
     ]
    }
   ],
   "source": [
    "t=(3,)\n",
    "print(type(t))"
   ]
  },
  {
   "cell_type": "code",
   "execution_count": 25,
   "id": "9836022a-f1e8-415a-bd7f-cba4f02aee21",
   "metadata": {},
   "outputs": [
    {
     "ename": "NameError",
     "evalue": "name 'touple' is not defined",
     "output_type": "error",
     "traceback": [
      "\u001b[1;31m---------------------------------------------------------------------------\u001b[0m",
      "\u001b[1;31mNameError\u001b[0m                                 Traceback (most recent call last)",
      "Cell \u001b[1;32mIn[25], line 1\u001b[0m\n\u001b[1;32m----> 1\u001b[0m t\u001b[38;5;241m=\u001b[39m\u001b[43mtouple\u001b[49m()\n\u001b[0;32m      2\u001b[0m \u001b[38;5;28mprint\u001b[39m(t)\n",
      "\u001b[1;31mNameError\u001b[0m: name 'touple' is not defined"
     ]
    }
   ],
   "source": [
    "t=touple()\n",
    "print(t)"
   ]
  },
  {
   "cell_type": "code",
   "execution_count": 27,
   "id": "e850397f-108a-4bd7-be23-02a2b7be3964",
   "metadata": {},
   "outputs": [
    {
     "name": "stdout",
     "output_type": "stream",
     "text": [
      "()\n"
     ]
    }
   ],
   "source": [
    "t=tuple()\n",
    "print(t)"
   ]
  },
  {
   "cell_type": "code",
   "execution_count": 29,
   "id": "89a863cb-3af7-4534-9f3b-e590019180bb",
   "metadata": {},
   "outputs": [
    {
     "name": "stdout",
     "output_type": "stream",
     "text": [
      "289.59000000000003\n",
      "<class 'float'>\n"
     ]
    }
   ],
   "source": [
    "a=255\n",
    "b=34.59\n",
    "c=a+b\n",
    "print(c)\n",
    "print(type(c))"
   ]
  },
  {
   "cell_type": "code",
   "execution_count": null,
   "id": "94d5cded-5f4b-46d7-acfe-6fc575c9ff31",
   "metadata": {},
   "outputs": [],
   "source": []
  }
 ],
 "metadata": {
  "kernelspec": {
   "display_name": "Python 3 (ipykernel)",
   "language": "python",
   "name": "python3"
  },
  "language_info": {
   "codemirror_mode": {
    "name": "ipython",
    "version": 3
   },
   "file_extension": ".py",
   "mimetype": "text/x-python",
   "name": "python",
   "nbconvert_exporter": "python",
   "pygments_lexer": "ipython3",
   "version": "3.10.10"
  }
 },
 "nbformat": 4,
 "nbformat_minor": 5
}
