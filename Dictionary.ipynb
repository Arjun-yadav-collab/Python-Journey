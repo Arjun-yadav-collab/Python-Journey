{
 "cells": [
  {
   "cell_type": "code",
   "execution_count": 5,
   "id": "3df8223c-6d96-4813-bdc9-33f8dfc245ea",
   "metadata": {},
   "outputs": [
    {
     "name": "stdout",
     "output_type": "stream",
     "text": [
      "{'name': 'arjun', 'village': 'Bayan', 'city': 'Indore', 'day': 'Friday', 'editor': 'VS code'}\n"
     ]
    }
   ],
   "source": [
    "########Dictionaries-Dictonaries are used to store data values in key:value pairs.\n",
    "dict={\n",
    "    \"name\":\"arjun\",\n",
    "    \"village\":\"Bayan\",\n",
    "    \"city\":\"Indore\",\n",
    "    \"day\":\"Friday\",\n",
    "    \"editor\":\"VS code\",\n",
    "    \"name\":\"arjun\"\n",
    "}\n",
    "print(dict)"
   ]
  },
  {
   "cell_type": "code",
   "execution_count": 3,
   "id": "66d8bc7d-e8c7-4466-b348-09ab5a903718",
   "metadata": {},
   "outputs": [
    {
     "name": "stdout",
     "output_type": "stream",
     "text": [
      "<class 'dict'>\n"
     ]
    }
   ],
   "source": [
    "print(type(dict))"
   ]
  },
  {
   "cell_type": "code",
   "execution_count": 6,
   "id": "4df16639-75c1-48fe-9c98-888c32e5b07f",
   "metadata": {},
   "outputs": [
    {
     "name": "stdout",
     "output_type": "stream",
     "text": [
      "arjun\n"
     ]
    }
   ],
   "source": [
    "#####They are unordered,mutable(changeable) & don't allow duplicate keys #########\n",
    "\n",
    "print(dict[\"name\"])"
   ]
  },
  {
   "cell_type": "code",
   "execution_count": 10,
   "id": "be7df80e-b2bd-4c88-b95c-c4c1beb9f2a6",
   "metadata": {},
   "outputs": [
    {
     "name": "stdout",
     "output_type": "stream",
     "text": [
      "{'name': 'python', 'village': 'Bayan', 'city': 'Indore', 'day': 'Friday', 'editor': 'VS code', 'surname': 'anaconda'}\n"
     ]
    }
   ],
   "source": [
    "dict[\"name\"]=\"python\"\n",
    "dict[\"surname\"]=\"anaconda\"\n",
    "print(dict)"
   ]
  },
  {
   "cell_type": "code",
   "execution_count": 11,
   "id": "560888c7-4b2f-4393-9880-079829a5a10f",
   "metadata": {},
   "outputs": [
    {
     "name": "stdout",
     "output_type": "stream",
     "text": [
      "{}\n"
     ]
    }
   ],
   "source": [
    "null_dict={}\n",
    "print(null_dict)"
   ]
  },
  {
   "cell_type": "code",
   "execution_count": 18,
   "id": "06f7dff1-8231-49f8-b574-c4028d54c67a",
   "metadata": {},
   "outputs": [
    {
     "name": "stdout",
     "output_type": "stream",
     "text": [
      "{'name': 'Arjun Yadav', 'subjects': {'physics': 34, 'maths': 43, 'social': 43, 'Hindi': 98}}\n",
      "<class 'dict'>\n"
     ]
    }
   ],
   "source": [
    "######Nested Dictionaries#############\n",
    "student={\n",
    "\"name\":\"Arjun Yadav\",\n",
    "\n",
    "\"subjects\":{\n",
    "    \"physics\":34,\n",
    "    \"maths\":43,\n",
    "    \"social\":43,\n",
    "    \"Hindi\":98\n",
    "}\n",
    "}\n",
    "print(student)\n",
    "print(type(student))\n"
   ]
  },
  {
   "cell_type": "code",
   "execution_count": 19,
   "id": "b6b61f82-936a-492f-b932-60393d7b763f",
   "metadata": {},
   "outputs": [
    {
     "name": "stdout",
     "output_type": "stream",
     "text": [
      "dict_keys(['name', 'subjects'])\n"
     ]
    }
   ],
   "source": [
    "#######key##########\n",
    "print(student.keys())"
   ]
  },
  {
   "cell_type": "code",
   "execution_count": 22,
   "id": "474fb1d0-2082-485c-9b3c-db4efc185dd1",
   "metadata": {},
   "outputs": [
    {
     "name": "stdout",
     "output_type": "stream",
     "text": [
      "D.keys() -> a set-like object providing a view on D's keys\n"
     ]
    }
   ],
   "source": [
    "print(student.keys.__doc__)"
   ]
  },
  {
   "cell_type": "code",
   "execution_count": 23,
   "id": "0e5e5a18-645b-4156-8e16-b72b6627b256",
   "metadata": {},
   "outputs": [
    {
     "name": "stdout",
     "output_type": "stream",
     "text": [
      "['name', 'subjects']\n"
     ]
    }
   ],
   "source": [
    "print(list(student.keys()))"
   ]
  },
  {
   "cell_type": "code",
   "execution_count": 25,
   "id": "6a3712d9-31d9-467b-a5e9-b3bb30f2dff2",
   "metadata": {},
   "outputs": [
    {
     "name": "stdout",
     "output_type": "stream",
     "text": [
      "2\n"
     ]
    }
   ],
   "source": [
    "print(len(list(student.keys())))"
   ]
  },
  {
   "cell_type": "code",
   "execution_count": 26,
   "id": "8222067f-f045-4dce-b90a-5bdfe60c1d6c",
   "metadata": {},
   "outputs": [
    {
     "name": "stdout",
     "output_type": "stream",
     "text": [
      "dict_values(['Arjun Yadav', {'physics': 34, 'maths': 43, 'social': 43, 'Hindi': 98}])\n"
     ]
    }
   ],
   "source": [
    "print(student.values())"
   ]
  },
  {
   "cell_type": "code",
   "execution_count": 28,
   "id": "4e8ccbb1-52e7-4b1c-bf43-c4d9ca01b642",
   "metadata": {},
   "outputs": [
    {
     "name": "stdout",
     "output_type": "stream",
     "text": [
      "D.values() -> an object providing a view on D's values\n"
     ]
    }
   ],
   "source": [
    "print(student.values.__doc__)"
   ]
  },
  {
   "cell_type": "code",
   "execution_count": 29,
   "id": "0f033f3d-aa9a-4bce-89c8-6d9cc1e2aff1",
   "metadata": {},
   "outputs": [
    {
     "name": "stdout",
     "output_type": "stream",
     "text": [
      "dict_items([('name', 'Arjun Yadav'), ('subjects', {'physics': 34, 'maths': 43, 'social': 43, 'Hindi': 98})])\n"
     ]
    }
   ],
   "source": [
    "######.items-returns all (key,val) pairs as touple\n",
    "\n",
    "print(student.items())"
   ]
  },
  {
   "cell_type": "code",
   "execution_count": 30,
   "id": "27677377-cf15-417f-a934-dd4301d9b0dd",
   "metadata": {},
   "outputs": [
    {
     "name": "stdout",
     "output_type": "stream",
     "text": [
      "[('name', 'Arjun Yadav'), ('subjects', {'physics': 34, 'maths': 43, 'social': 43, 'Hindi': 98})]\n"
     ]
    }
   ],
   "source": [
    "\n",
    "print(list(student.items()))"
   ]
  },
  {
   "cell_type": "code",
   "execution_count": 32,
   "id": "9059620c-d1a0-4676-b3b9-ffd4f4a436c8",
   "metadata": {},
   "outputs": [
    {
     "name": "stdout",
     "output_type": "stream",
     "text": [
      "D.items() -> a set-like object providing a view on D's items\n"
     ]
    }
   ],
   "source": [
    "print(student.items.__doc__)"
   ]
  },
  {
   "cell_type": "code",
   "execution_count": 35,
   "id": "5f63e77a-76f5-4b60-9dfa-9b071b70c304",
   "metadata": {},
   "outputs": [
    {
     "name": "stdout",
     "output_type": "stream",
     "text": [
      "{'name': 'Arjun Yadav', 'subjects': {'physics': 34, 'maths': 43, 'social': 43, 'Hindi': 98}, 'city': 'delhi'}\n"
     ]
    }
   ],
   "source": [
    "student.update({\"city\":\"delhi\"})\n",
    "print(student)"
   ]
  },
  {
   "cell_type": "code",
   "execution_count": 37,
   "id": "4706acaa-b843-4aed-970d-d754a37a6aeb",
   "metadata": {
    "jupyter": {
     "source_hidden": true
    }
   },
   "outputs": [
    {
     "ename": "SyntaxError",
     "evalue": "invalid syntax (3599374198.py, line 1)",
     "output_type": "error",
     "traceback": [
      "\u001b[1;36m  Cell \u001b[1;32mIn[37], line 1\u001b[1;36m\u001b[0m\n\u001b[1;33m    dict.\u001b[0m\n\u001b[1;37m         ^\u001b[0m\n\u001b[1;31mSyntaxError\u001b[0m\u001b[1;31m:\u001b[0m invalid syntax\n"
     ]
    }
   ],
   "source": [
    "dict."
   ]
  },
  {
   "cell_type": "code",
   "execution_count": 38,
   "id": "db60ae07-1d9d-4fb2-bb19-f72b94402277",
   "metadata": {},
   "outputs": [
    {
     "name": "stdout",
     "output_type": "stream",
     "text": [
      "{'name': 'Arjun Yadav', 'subjects': {'physics': 34, 'maths': 43, 'social': 43, 'Hindi': 98}, 'city': 'delhi'}\n"
     ]
    }
   ],
   "source": [
    "print(student.copy())"
   ]
  },
  {
   "cell_type": "code",
   "execution_count": 39,
   "id": "d11117fc-3bfb-4c5c-9f5f-bd1563f088b4",
   "metadata": {},
   "outputs": [
    {
     "name": "stdout",
     "output_type": "stream",
     "text": [
      "D.copy() -> a shallow copy of D\n"
     ]
    }
   ],
   "source": [
    "print(student.copy.__doc__)"
   ]
  },
  {
   "cell_type": "code",
   "execution_count": 44,
   "id": "8a503cd7-6a94-4ef2-b884-d9ec9807dea6",
   "metadata": {},
   "outputs": [
    {
     "name": "stdout",
     "output_type": "stream",
     "text": [
      "{'r': '0817CS211005', 'o': '0817CS211005', 'l': '0817CS211005', 'n': '0817CS211005'}\n"
     ]
    }
   ],
   "source": [
    "print(student.fromkeys(\"rollno\",\"0817CS211005\"))\n"
   ]
  },
  {
   "cell_type": "code",
   "execution_count": 46,
   "id": "6077ee18-029c-44df-9a3f-c336bf32dd46",
   "metadata": {},
   "outputs": [
    {
     "name": "stdout",
     "output_type": "stream",
     "text": [
      "Create a new dictionary with keys from iterable and values set to value.\n"
     ]
    }
   ],
   "source": [
    "print(student.fromkeys.__doc__)"
   ]
  },
  {
   "cell_type": "code",
   "execution_count": 47,
   "id": "e422f097-8188-4e6f-8d7a-ed67bdf71dcc",
   "metadata": {},
   "outputs": [
    {
     "name": "stdout",
     "output_type": "stream",
     "text": [
      "Arjun Yadav\n"
     ]
    }
   ],
   "source": [
    "######pop########\n",
    "\n",
    "print(student.pop(\"name\"))"
   ]
  },
  {
   "cell_type": "code",
   "execution_count": 48,
   "id": "8d79e648-e416-4391-9215-cd28d9371c00",
   "metadata": {},
   "outputs": [
    {
     "name": "stdout",
     "output_type": "stream",
     "text": [
      "{'subjects': {'physics': 34, 'maths': 43, 'social': 43, 'Hindi': 98}, 'city': 'delhi'}\n"
     ]
    }
   ],
   "source": [
    "print(student)"
   ]
  },
  {
   "cell_type": "code",
   "execution_count": 49,
   "id": "42c29119-fdc2-445b-b6ca-0cde5fe00dcd",
   "metadata": {},
   "outputs": [
    {
     "name": "stdout",
     "output_type": "stream",
     "text": [
      "D.pop(k[,d]) -> v, remove specified key and return the corresponding value.\n",
      "\n",
      "If the key is not found, return the default if given; otherwise,\n",
      "raise a KeyError.\n"
     ]
    }
   ],
   "source": [
    "print(student.pop.__doc__)"
   ]
  },
  {
   "cell_type": "code",
   "execution_count": 50,
   "id": "d552d2fd-0e3b-42e3-9156-ba2d6792110b",
   "metadata": {},
   "outputs": [
    {
     "ename": "KeyError",
     "evalue": "'hello'",
     "output_type": "error",
     "traceback": [
      "\u001b[1;31m---------------------------------------------------------------------------\u001b[0m",
      "\u001b[1;31mKeyError\u001b[0m                                  Traceback (most recent call last)",
      "Cell \u001b[1;32mIn[50], line 1\u001b[0m\n\u001b[1;32m----> 1\u001b[0m \u001b[38;5;28mprint\u001b[39m(\u001b[43mstudent\u001b[49m\u001b[38;5;241;43m.\u001b[39;49m\u001b[43mpop\u001b[49m\u001b[43m(\u001b[49m\u001b[38;5;124;43m\"\u001b[39;49m\u001b[38;5;124;43mhello\u001b[39;49m\u001b[38;5;124;43m\"\u001b[39;49m\u001b[43m)\u001b[49m)\n",
      "\u001b[1;31mKeyError\u001b[0m: 'hello'"
     ]
    }
   ],
   "source": [
    "print(student.pop(\"hello\"))"
   ]
  },
  {
   "cell_type": "code",
   "execution_count": 55,
   "id": "d19a3b16-02e6-42ea-bdb1-1e524152c492",
   "metadata": {},
   "outputs": [
    {
     "name": "stdout",
     "output_type": "stream",
     "text": [
      "{'subjects': {'physics': 34, 'maths': 43, 'social': 43, 'Hindi': 98}, 'city': 'delhi', 'name': 'Rahul'}\n"
     ]
    }
   ],
   "source": [
    "student[\"name\"]=\"Rahul\"\n",
    "print(student)"
   ]
  },
  {
   "cell_type": "code",
   "execution_count": 57,
   "id": "256fb4e1-3312-43b7-a7ac-28d607004ade",
   "metadata": {},
   "outputs": [
    {
     "name": "stdout",
     "output_type": "stream",
     "text": [
      "None\n"
     ]
    }
   ],
   "source": [
    "print(student.clear())"
   ]
  },
  {
   "cell_type": "code",
   "execution_count": 58,
   "id": "31699b7b-d155-4cab-9c1c-5999ffe967f9",
   "metadata": {},
   "outputs": [
    {
     "name": "stdout",
     "output_type": "stream",
     "text": [
      "{}\n"
     ]
    }
   ],
   "source": [
    "print(student)"
   ]
  },
  {
   "cell_type": "code",
   "execution_count": null,
   "id": "316883dd-c4d3-4f30-b461-e6266d92f03c",
   "metadata": {},
   "outputs": [],
   "source": []
  }
 ],
 "metadata": {
  "kernelspec": {
   "display_name": "Python 3 (ipykernel)",
   "language": "python",
   "name": "python3"
  },
  "language_info": {
   "codemirror_mode": {
    "name": "ipython",
    "version": 3
   },
   "file_extension": ".py",
   "mimetype": "text/x-python",
   "name": "python",
   "nbconvert_exporter": "python",
   "pygments_lexer": "ipython3",
   "version": "3.10.10"
  }
 },
 "nbformat": 4,
 "nbformat_minor": 5
}
