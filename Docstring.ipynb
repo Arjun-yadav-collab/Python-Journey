{
 "cells": [
  {
   "cell_type": "code",
   "execution_count": 1,
   "id": "2c0bd85b-4ad7-4c1d-9454-24c7e740b47c",
   "metadata": {},
   "outputs": [
    {
     "name": "stdout",
     "output_type": "stream",
     "text": [
      "Return the number of items in a container.\n"
     ]
    }
   ],
   "source": [
    "print(len.__doc__)"
   ]
  },
  {
   "cell_type": "code",
   "execution_count": 2,
   "id": "f284d502-0aa8-481f-be1e-0aac8f3539cd",
   "metadata": {},
   "outputs": [],
   "source": [
    "def num(x):\n",
    "    '''This function will return the reverse of input\n",
    "    example'''\n",
    "    x=str(x)#type conversation ant to string\n",
    "    return x[::-1]\n",
    "    \n",
    "    \n"
   ]
  },
  {
   "cell_type": "code",
   "execution_count": 4,
   "id": "8e84cfc1-c7e6-4e2c-a5c8-4bdcf59b073b",
   "metadata": {},
   "outputs": [
    {
     "name": "stdout",
     "output_type": "stream",
     "text": [
      "This function will return the reverse of input\n",
      "    example\n"
     ]
    }
   ],
   "source": [
    "print(num.__doc__)"
   ]
  },
  {
   "cell_type": "code",
   "execution_count": 6,
   "id": "25e94575-f242-4fb7-9ae2-203dab9c5648",
   "metadata": {},
   "outputs": [
    {
     "data": {
      "text/plain": [
       "'421'"
      ]
     },
     "execution_count": 6,
     "metadata": {},
     "output_type": "execute_result"
    }
   ],
   "source": [
    "num(124)"
   ]
  },
  {
   "cell_type": "code",
   "execution_count": 7,
   "id": "2c5cd3da-31c4-4a99-8fd4-4646eaae104b",
   "metadata": {},
   "outputs": [
    {
     "data": {
      "text/plain": [
       "'321'"
      ]
     },
     "execution_count": 7,
     "metadata": {},
     "output_type": "execute_result"
    }
   ],
   "source": [
    "def num(x):\n",
    "    '''This function will return the reverse of input\n",
    "    example'''\n",
    "    x=str(x)#type conversation int to string\n",
    "    return x[::-1]\n",
    "num(123)    "
   ]
  },
  {
   "cell_type": "code",
   "execution_count": 11,
   "id": "bef2e1f9-9cd8-499f-b9c8-4773faf68e08",
   "metadata": {},
   "outputs": [
    {
     "name": "stdout",
     "output_type": "stream",
     "text": [
      "['arjun', 'yadav', 'aayush']\n"
     ]
    }
   ],
   "source": [
    "############list################\n",
    "\n",
    "##append\n",
    "\n",
    "li=[\"arjun\",\"yadav\"]\n",
    "li.append(\"aayush\")\n",
    "print(li)\n"
   ]
  },
  {
   "cell_type": "code",
   "execution_count": 12,
   "id": "06b2a2d1-efb2-4646-a415-40f4503497a8",
   "metadata": {},
   "outputs": [
    {
     "name": "stdout",
     "output_type": "stream",
     "text": [
      "['arjun', 'yadav', 'aayush', 'rajput']\n"
     ]
    }
   ],
   "source": [
    "li.append(\"rajput\")\n",
    "print(li)"
   ]
  },
  {
   "cell_type": "code",
   "execution_count": 16,
   "id": "c356448b-41fd-49a9-91a0-9702b575075a",
   "metadata": {},
   "outputs": [
    {
     "name": "stdout",
     "output_type": "stream",
     "text": [
      "['priya', 'kavita', 'simran']\n"
     ]
    }
   ],
   "source": [
    "########Insert############\n",
    "li=[\"priya\",\"simran\"]\n",
    "li.insert(-1,\"kavita\")\n",
    "print(li)"
   ]
  },
  {
   "cell_type": "code",
   "execution_count": 17,
   "id": "f3d20a66-2603-44f7-8434-4b7dc28e55b1",
   "metadata": {},
   "outputs": [
    {
     "name": "stdout",
     "output_type": "stream",
     "text": [
      "['Simran', 'ANjali', 'Srashti', 'batman', 'Uri', 'KGF']\n"
     ]
    }
   ],
   "source": [
    "li=[\"Simran\",\"ANjali\",\"Srashti\"]\n",
    "li2=[\"batman\",\"Uri\",\"KGF\"]\n",
    "li.extend(li2)\n",
    "print(li)"
   ]
  },
  {
   "cell_type": "code",
   "execution_count": 18,
   "id": "a356d5c6-8d24-45f6-b10c-67f2e0db5a8d",
   "metadata": {},
   "outputs": [
    {
     "name": "stdout",
     "output_type": "stream",
     "text": [
      "['batman', 'Uri', 'KGF', 'Simran', 'ANjali', 'Srashti']\n"
     ]
    }
   ],
   "source": [
    "li=[\"Simran\",\"ANjali\",\"Srashti\"]\n",
    "li2=[\"batman\",\"Uri\",\"KGF\"]\n",
    "li2.extend(li)\n",
    "print(li2)"
   ]
  },
  {
   "cell_type": "code",
   "execution_count": 21,
   "id": "c426ac41-863c-47ad-bee5-8bd3642450c1",
   "metadata": {},
   "outputs": [
    {
     "name": "stdout",
     "output_type": "stream",
     "text": [
      "['batman', 'simran', 'anjali', 'Srashti', 'Uri', 'KGF']\n"
     ]
    }
   ],
   "source": [
    "li=[\"Simran\",\"ANjali\",\"Srashti\"]\n",
    "li2=[\"batman\",\"Uri\",\"KGF\"]\n",
    "li2.insert(1,\"simran\")\n",
    "li2.insert(2,\"anjali\")\n",
    "li2.insert(3,\"Srashti\")\n",
    "print(li2)"
   ]
  },
  {
   "cell_type": "code",
   "execution_count": 22,
   "id": "d669e6d7-2b00-4a49-8eb5-62558afc661c",
   "metadata": {},
   "outputs": [
    {
     "data": {
      "text/plain": [
       "2"
      ]
     },
     "execution_count": 22,
     "metadata": {},
     "output_type": "execute_result"
    }
   ],
   "source": [
    "###to create a copy you have  use copy method or list constuructor \n",
    "########no\n",
    "li=[\"sim\",\"rim\",\"wim\",\"gin\",\"sim\",\"rim\",\"wim\",\"gin\"]\n",
    "li.count(\"sim\")\n",
    "\n"
   ]
  },
  {
   "cell_type": "code",
   "execution_count": 41,
   "id": "2e3a0d1d-f67d-493f-be72-df8016745a49",
   "metadata": {},
   "outputs": [
    {
     "name": "stdout",
     "output_type": "stream",
     "text": [
      "1 4\n",
      "2 4\n",
      "3 3\n",
      "4 3\n",
      "6 1\n"
     ]
    }
   ],
   "source": [
    "l2=[1,2,3,1,1,1,3,4,2,2,6,2,3,4,4,]\n",
    "l_unique=[]\n",
    "for i in l2:\n",
    "    if i not in l_unique:\n",
    "        l_unique.append(i)\n",
    "        print(i ,  l2.count(i))\n",
    "         \n"
   ]
  },
  {
   "cell_type": "code",
   "execution_count": 34,
   "id": "514b1dfc-7f6e-4e66-a1bf-40cf2d6666c8",
   "metadata": {},
   "outputs": [
    {
     "name": "stdout",
     "output_type": "stream",
     "text": [
      "1\n",
      "7\n"
     ]
    }
   ],
   "source": [
    "#########l\n",
    "l2=[1,2,3,1,1,1,3,4,2,2,6,2,3,4,4,]\n",
    "print(l2.index(2))\n",
    "print(l2.index(4"
   ]
  },
  {
   "cell_type": "code",
   "execution_count": 43,
   "id": "cd10fb31-e3ec-4699-a89b-334727c3d390",
   "metadata": {},
   "outputs": [
    {
     "name": "stdout",
     "output_type": "stream",
     "text": [
      "1 1\n",
      "3 1\n",
      "4 1\n",
      "5 1\n"
     ]
    }
   ],
   "source": [
    "list=[1,3,4,3,4,3,5,3,3,3,3,3]\n",
    "unique=[]\n",
    "for i in list:\n",
    "    if i not in unique:\n",
    "        unique.append(i)\n",
    "        print(i ,list.count(1))\n",
    "        "
   ]
  },
  {
   "cell_type": "code",
   "execution_count": 44,
   "id": "45cdcc0b-9f0b-4591-88ad-3354d0a6b4ca",
   "metadata": {},
   "outputs": [
    {
     "ename": "SyntaxError",
     "evalue": "unterminated string literal (detected at line 1) (2719022044.py, line 1)",
     "output_type": "error",
     "traceback": [
      "\u001b[1;36m  Cell \u001b[1;32mIn[44], line 1\u001b[1;36m\u001b[0m\n\u001b[1;33m    w=[\"syudh',poyush','simran','patel','yadav']\u001b[0m\n\u001b[1;37m       ^\u001b[0m\n\u001b[1;31mSyntaxError\u001b[0m\u001b[1;31m:\u001b[0m unterminated string literal (detected at line 1)\n"
     ]
    }
   ],
   "source": [
    "w=[\"syudh',poyush','simran','patel','yadav']\n",
    "w.sort(   "
   ]
  },
  {
   "cell_type": "code",
   "execution_count": 47,
   "id": "fe6b0093-f02b-4cf2-91cf-2f0775e28182",
   "metadata": {},
   "outputs": [
    {
     "ename": "NameError",
     "evalue": "name 'kstaticmethod' is not defined",
     "output_type": "error",
     "traceback": [
      "\u001b[1;31m---------------------------------------------------------------------------\u001b[0m",
      "\u001b[1;31mNameError\u001b[0m                                 Traceback (most recent call last)",
      "Cell \u001b[1;32mIn[47], line 1\u001b[0m\n\u001b[1;32m----> 1\u001b[0m \u001b[38;5;28;01mclass\u001b[39;00m \u001b[38;5;21;01mMyClass\u001b[39;00m:\n\u001b[0;32m      2\u001b[0m     kstaticmethod\n\u001b[0;32m      3\u001b[0m     \u001b[38;5;28;01mdef\u001b[39;00m \u001b[38;5;21mmy_static_method\u001b[39m():\n",
      "Cell \u001b[1;32mIn[47], line 2\u001b[0m, in \u001b[0;36mMyClass\u001b[1;34m()\u001b[0m\n\u001b[0;32m      1\u001b[0m \u001b[38;5;28;01mclass\u001b[39;00m \u001b[38;5;21;01mMyClass\u001b[39;00m:\n\u001b[1;32m----> 2\u001b[0m     \u001b[43mkstaticmethod\u001b[49m\n\u001b[0;32m      3\u001b[0m     \u001b[38;5;28;01mdef\u001b[39;00m \u001b[38;5;21mmy_static_method\u001b[39m():\n\u001b[0;32m      4\u001b[0m         \u001b[38;5;28mprint\u001b[39m(\u001b[38;5;124m\"\u001b[39m\u001b[38;5;124mThis is a static method.\u001b[39m\u001b[38;5;124m\"\u001b[39m)\n",
      "\u001b[1;31mNameError\u001b[0m: name 'kstaticmethod' is not defined"
     ]
    }
   ],
   "source": [
    "class MyClass:\n",
    "    @staticmethod\n",
    "    def my_static_method():\n",
    "        print(\"This is a static method.\")\n",
    "\n",
    "# Calling static method without an object\n",
    "MyClass.my_static_method()\n"
   ]
  },
  {
   "cell_type": "code",
   "execution_count": 48,
   "id": "8beb0ae8-5074-463a-93f3-c9d23ce34bb7",
   "metadata": {},
   "outputs": [
    {
     "name": "stdout",
     "output_type": "stream",
     "text": [
      "[]\n"
     ]
    }
   ],
   "source": [
    "a=[2223,233,23,3,3,34]\n",
    "a.clear()\n",
    "print(a)"
   ]
  },
  {
   "cell_type": "code",
   "execution_count": 49,
   "id": "9d2cf65a-03ad-4b41-bf33-991899f7ebad",
   "metadata": {},
   "outputs": [
    {
     "data": {
      "text/plain": [
       "[]"
      ]
     },
     "execution_count": 49,
     "metadata": {},
     "output_type": "execute_result"
    }
   ],
   "source": [
    "a"
   ]
  },
  {
   "cell_type": "code",
   "execution_count": 50,
   "id": "21eafdb4-c9e1-46d1-a8c3-1633f5f1feca",
   "metadata": {},
   "outputs": [],
   "source": [
    "###del is a function of python\n",
    "\n",
    "a=[33344,33,3,443]\n",
    "del a"
   ]
  },
  {
   "cell_type": "code",
   "execution_count": 51,
   "id": "f46b309d-af88-4a2b-ba4a-4986f3e57cc7",
   "metadata": {},
   "outputs": [
    {
     "ename": "NameError",
     "evalue": "name 'a' is not defined",
     "output_type": "error",
     "traceback": [
      "\u001b[1;31m---------------------------------------------------------------------------\u001b[0m",
      "\u001b[1;31mNameError\u001b[0m                                 Traceback (most recent call last)",
      "Cell \u001b[1;32mIn[51], line 1\u001b[0m\n\u001b[1;32m----> 1\u001b[0m \u001b[43ma\u001b[49m\n",
      "\u001b[1;31mNameError\u001b[0m: name 'a' is not defined"
     ]
    }
   ],
   "source": [
    "a"
   ]
  },
  {
   "cell_type": "code",
   "execution_count": 53,
   "id": "a40623a7-b438-417d-ad63-455240cb7949",
   "metadata": {},
   "outputs": [
    {
     "name": "stdout",
     "output_type": "stream",
     "text": [
      "['priya', 'kajal', 'simran', 'anajli']\n"
     ]
    }
   ],
   "source": [
    "a=[\"priya\",\"kajal\",\"simran\",\"anajli\",\"aayush\"]\n",
    "a.pop()###default value is -1\n",
    "print(a)"
   ]
  },
  {
   "cell_type": "code",
   "execution_count": 54,
   "id": "bb92b84d-5168-4978-9bb6-60b8b0e99dee",
   "metadata": {},
   "outputs": [
    {
     "name": "stdout",
     "output_type": "stream",
     "text": [
      "['priya', 'simran', 'anajli', 'aayush']\n"
     ]
    }
   ],
   "source": []
  },
  {
   "cell_type": "code",
   "execution_count": 55,
   "id": "f2c4ace5-4cde-4fbc-9b0e-a01adfc4a712",
   "metadata": {},
   "outputs": [
    {
     "ename": "IndexError",
     "evalue": "pop from empty list",
     "output_type": "error",
     "traceback": [
      "\u001b[1;31m---------------------------------------------------------------------------\u001b[0m",
      "\u001b[1;31mIndexError\u001b[0m                                Traceback (most recent call last)",
      "Cell \u001b[1;32mIn[55], line 2\u001b[0m\n\u001b[0;32m      1\u001b[0m a\u001b[38;5;241m=\u001b[39m[]\n\u001b[1;32m----> 2\u001b[0m \u001b[43ma\u001b[49m\u001b[38;5;241;43m.\u001b[39;49m\u001b[43mpop\u001b[49m\u001b[43m(\u001b[49m\u001b[43m)\u001b[49m\n\u001b[0;32m      3\u001b[0m \u001b[38;5;28mprint\u001b[39m(a)\n",
      "\u001b[1;31mIndexError\u001b[0m: pop from empty list"
     ]
    }
   ],
   "source": [
    "a=[]\n",
    "a.pop()\n",
    "print(a)"
   ]
  },
  {
   "cell_type": "code",
   "execution_count": 56,
   "id": "63281c41-1c02-4886-9ef2-e5c738801d55",
   "metadata": {},
   "outputs": [
    {
     "ename": "IndexError",
     "evalue": "pop index out of range",
     "output_type": "error",
     "traceback": [
      "\u001b[1;31m---------------------------------------------------------------------------\u001b[0m",
      "\u001b[1;31mIndexError\u001b[0m                                Traceback (most recent call last)",
      "Cell \u001b[1;32mIn[56], line 2\u001b[0m\n\u001b[0;32m      1\u001b[0m a\u001b[38;5;241m=\u001b[39m[\u001b[38;5;124m\"\u001b[39m\u001b[38;5;124marjun\u001b[39m\u001b[38;5;124m\"\u001b[39m,\u001b[38;5;124m\"\u001b[39m\u001b[38;5;124myadav\u001b[39m\u001b[38;5;124m\"\u001b[39m,\u001b[38;5;124m\"\u001b[39m\u001b[38;5;124mayush\u001b[39m\u001b[38;5;124m\"\u001b[39m,\u001b[38;5;124m\"\u001b[39m\u001b[38;5;124mrajput\u001b[39m\u001b[38;5;124m\"\u001b[39m]\n\u001b[1;32m----> 2\u001b[0m \u001b[43ma\u001b[49m\u001b[38;5;241;43m.\u001b[39;49m\u001b[43mpop\u001b[49m\u001b[43m(\u001b[49m\u001b[38;5;241;43m1000\u001b[39;49m\u001b[43m)\u001b[49m\n\u001b[0;32m      3\u001b[0m \u001b[38;5;28mprint\u001b[39m(a)\n",
      "\u001b[1;31mIndexError\u001b[0m: pop index out of range"
     ]
    }
   ],
   "source": [
    "a=[\"arjun\",\"yadav\",\"ayush\",\"rajput\"]\n",
    "a.pop(1000)\n",
    "print(a)"
   ]
  },
  {
   "cell_type": "code",
   "execution_count": 57,
   "id": "aa8f3558-d943-45f4-b6cc-79d128fb1e01",
   "metadata": {},
   "outputs": [
    {
     "name": "stdout",
     "output_type": "stream",
     "text": [
      "['yadav', 'ayush', 'rajput']\n"
     ]
    }
   ],
   "source": [
    "#######pop work on-index\n",
    "######remove work on - element\n",
    "\n",
    "a=[\"arjun\",\"yadav\",\"ayush\",\"rajput\"]\n",
    "a.remove(\"arjun\")\n",
    "print(a)"
   ]
  },
  {
   "cell_type": "code",
   "execution_count": 59,
   "id": "b1822f8a-77ef-4543-a444-c432a6466627",
   "metadata": {},
   "outputs": [
    {
     "ename": "IndentationError",
     "evalue": "unexpected indent (100483234.py, line 10)",
     "output_type": "error",
     "traceback": [
      "\u001b[1;36m  Cell \u001b[1;32mIn[59], line 10\u001b[1;36m\u001b[0m\n\u001b[1;33m    choice=int(int(\"enter your choice\"))\u001b[0m\n\u001b[1;37m    ^\u001b[0m\n\u001b[1;31mIndentationError\u001b[0m\u001b[1;31m:\u001b[0m unexpected indent\n"
     ]
    }
   ],
   "source": [
    "while True:\n",
    "    print('''Select appropriate option\n",
    "    1 for Add a task\n",
    "    3 mark the task as done\n",
    "    3 for to all completed task\n",
    "    2 for Delete a task\n",
    "    4.Delete a tasksk\n",
    "    5.for exit for program\n",
    "    ''')\n",
    "    choice=int(input(\"enter your choice\"))\n",
    "    if choice==1:\n",
    "    task=input(\"enter your task\")\n",
    "    print(\"list append\")\n",
    "    list=[23,323,232,23,232,32]\n",
    "    list.append(45)\n",
    "    print(list)\n",
    "        print(\"add a task\")\n",
    "    elif choice==2:\n",
    "        print(\"delete a task\")\n",
    "        list.clear()\n",
    "        print(list)\n",
    "    elif choice==3:\n",
    "        print(\"Mark the task done\")\n",
    "    elif choice==4:\n",
    "        print(\"Remaining task\")\n",
    "    elif choice==5:\n",
    "        print(\"Complete task\")\n",
    "    elif choice==6:\n",
    "        print(\"exit\")\n",
    "    else:(\"outside\")\n",
    "\n",
    "\n",
    "\n",
    "    \n",
    "\n"
   ]
  },
  {
   "cell_type": "code",
   "execution_count": null,
   "id": "a8ba846e-fd97-4cd7-8ccf-0bb2678ed81e",
   "metadata": {},
   "outputs": [],
   "source": []
  }
 ],
 "metadata": {
  "kernelspec": {
   "display_name": "Python 3 (ipykernel)",
   "language": "python",
   "name": "python3"
  },
  "language_info": {
   "codemirror_mode": {
    "name": "ipython",
    "version": 3
   },
   "file_extension": ".py",
   "mimetype": "text/x-python",
   "name": "python",
   "nbconvert_exporter": "python",
   "pygments_lexer": "ipython3",
   "version": "3.10.10"
  }
 },
 "nbformat": 4,
 "nbformat_minor": 5
}
